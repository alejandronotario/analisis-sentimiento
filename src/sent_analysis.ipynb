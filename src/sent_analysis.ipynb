{
 "cells": [
  {
   "cell_type": "code",
   "execution_count": null,
   "metadata": {},
   "outputs": [],
   "source": []
  },
  {
   "cell_type": "markdown",
   "metadata": {},
   "source": [
    "# Análisis de sentimiento según revisiones de películas\n",
    "\n",
    "__Autor: Alejandro Notario__\n",
    "\n",
    "En este notebook se desarrolla el entrenamiento de 3 modelos diferentes para la predicción de rating de películas según los comentarios reditrados en el sitio web _Rotten tomatoes_\n",
    "En el dataset de entrenamiento se encuentran\n",
    "\n",
    "__Flujo de trabajo:__\n",
    "\n",
    "- Exploración de datos\n",
    "- Procesamiento de texto\n",
    "- Entrenamiento y aplicación de modelos predictivos\n",
    "- Obtención del mejor resultado según la precisión obtenida"
   ]
  },
  {
   "cell_type": "markdown",
   "metadata": {},
   "source": [
    "__Librerías__"
   ]
  },
  {
   "cell_type": "code",
   "execution_count": 1,
   "metadata": {},
   "outputs": [
    {
     "name": "stderr",
     "output_type": "stream",
     "text": [
      "[nltk_data] Downloading package stopwords to\n",
      "[nltk_data]     /home/anotario/nltk_data...\n",
      "[nltk_data]   Package stopwords is already up-to-date!\n"
     ]
    }
   ],
   "source": [
    "import pandas as pd\n",
    "import numpy as np\n",
    "import re\n",
    "import seaborn as sns\n",
    "import warnings\n",
    "warnings.filterwarnings('ignore')\n",
    "\n",
    "#NLTK \n",
    "import nltk\n",
    "nltk.download('stopwords')\n",
    "from nltk.corpus import stopwords\n",
    "from nltk.stem import WordNetLemmatizer\n",
    "from nltk.tokenize import word_tokenize\n",
    "\n",
    "#Sklearn \n",
    "from sklearn.feature_extraction.text import CountVectorizer\n",
    "from sklearn.linear_model import SGDClassifier\n",
    "from sklearn.linear_model import LogisticRegression\n",
    "from sklearn.model_selection import train_test_split\n",
    "from sklearn.naive_bayes import MultinomialNB\n",
    "from sklearn.metrics import accuracy_score\n",
    "from joblib import dump, load\n",
    "from sklearn.metrics import confusion_matrix\n",
    "from sklearn.metrics import classification_report"
   ]
  },
  {
   "cell_type": "markdown",
   "metadata": {},
   "source": [
    "### Importación de datos"
   ]
  },
  {
   "cell_type": "code",
   "execution_count": 2,
   "metadata": {},
   "outputs": [],
   "source": [
    "train_data = pd.read_csv('./train.tsv',sep='\\t')\n",
    "test_data = pd.read_csv('./test.tsv',sep='\\t')"
   ]
  },
  {
   "cell_type": "markdown",
   "metadata": {},
   "source": [
    "### Exploración de datos\n",
    "\n",
    "Breve exploración para conocer dimensiones y distribución\n"
   ]
  },
  {
   "cell_type": "code",
   "execution_count": 3,
   "metadata": {},
   "outputs": [
    {
     "data": {
      "text/html": [
       "<div>\n",
       "<style scoped>\n",
       "    .dataframe tbody tr th:only-of-type {\n",
       "        vertical-align: middle;\n",
       "    }\n",
       "\n",
       "    .dataframe tbody tr th {\n",
       "        vertical-align: top;\n",
       "    }\n",
       "\n",
       "    .dataframe thead th {\n",
       "        text-align: right;\n",
       "    }\n",
       "</style>\n",
       "<table border=\"1\" class=\"dataframe\">\n",
       "  <thead>\n",
       "    <tr style=\"text-align: right;\">\n",
       "      <th></th>\n",
       "      <th>PhraseId</th>\n",
       "      <th>SentenceId</th>\n",
       "      <th>Phrase</th>\n",
       "      <th>Sentiment</th>\n",
       "    </tr>\n",
       "  </thead>\n",
       "  <tbody>\n",
       "    <tr>\n",
       "      <th>0</th>\n",
       "      <td>1</td>\n",
       "      <td>1</td>\n",
       "      <td>A series of escapades demonstrating the adage ...</td>\n",
       "      <td>1</td>\n",
       "    </tr>\n",
       "    <tr>\n",
       "      <th>1</th>\n",
       "      <td>2</td>\n",
       "      <td>1</td>\n",
       "      <td>A series of escapades demonstrating the adage ...</td>\n",
       "      <td>2</td>\n",
       "    </tr>\n",
       "    <tr>\n",
       "      <th>2</th>\n",
       "      <td>3</td>\n",
       "      <td>1</td>\n",
       "      <td>A series</td>\n",
       "      <td>2</td>\n",
       "    </tr>\n",
       "    <tr>\n",
       "      <th>3</th>\n",
       "      <td>4</td>\n",
       "      <td>1</td>\n",
       "      <td>A</td>\n",
       "      <td>2</td>\n",
       "    </tr>\n",
       "    <tr>\n",
       "      <th>4</th>\n",
       "      <td>5</td>\n",
       "      <td>1</td>\n",
       "      <td>series</td>\n",
       "      <td>2</td>\n",
       "    </tr>\n",
       "  </tbody>\n",
       "</table>\n",
       "</div>"
      ],
      "text/plain": [
       "   PhraseId  SentenceId                                             Phrase  \\\n",
       "0         1           1  A series of escapades demonstrating the adage ...   \n",
       "1         2           1  A series of escapades demonstrating the adage ...   \n",
       "2         3           1                                           A series   \n",
       "3         4           1                                                  A   \n",
       "4         5           1                                             series   \n",
       "\n",
       "   Sentiment  \n",
       "0          1  \n",
       "1          2  \n",
       "2          2  \n",
       "3          2  \n",
       "4          2  "
      ]
     },
     "execution_count": 3,
     "metadata": {},
     "output_type": "execute_result"
    }
   ],
   "source": [
    "train_data.head()"
   ]
  },
  {
   "cell_type": "code",
   "execution_count": 4,
   "metadata": {},
   "outputs": [
    {
     "name": "stdout",
     "output_type": "stream",
     "text": [
      "Dimensiones de dataframes:\n",
      "Train:  156060\n",
      "Test 66292\n"
     ]
    }
   ],
   "source": [
    "print(\"Dimensiones de dataframes:\")\n",
    "print(\"Train: \" ,train_data.shape[0])\n",
    "print(\"Test\", test_data.shape[0])"
   ]
  },
  {
   "cell_type": "code",
   "execution_count": 5,
   "metadata": {},
   "outputs": [
    {
     "name": "stdout",
     "output_type": "stream",
     "text": [
      "Distribución de valoraciones: \n",
      "2    79582\n",
      "3    32927\n",
      "1    27273\n",
      "4     9206\n",
      "0     7072\n",
      "Name: Sentiment, dtype: int64\n"
     ]
    }
   ],
   "source": [
    "print(\"Distribución de valoraciones: \")\n",
    "print(train_data.Sentiment.value_counts())"
   ]
  },
  {
   "cell_type": "code",
   "execution_count": 6,
   "metadata": {},
   "outputs": [
    {
     "data": {
      "text/plain": [
       "<matplotlib.axes._subplots.AxesSubplot at 0x7f8d6e702550>"
      ]
     },
     "execution_count": 6,
     "metadata": {},
     "output_type": "execute_result"
    },
    {
     "data": {
      "image/png": "[encoded data removed]",
      "text/plain": [
       "<Figure size 432x288 with 1 Axes>"
      ]
     },
     "metadata": {
      "needs_background": "light"
     },
     "output_type": "display_data"
    }
   ],
   "source": [
    "sns.countplot(train_data['Sentiment'])"
   ]
  },
  {
   "cell_type": "markdown",
   "metadata": {},
   "source": [
    "### Procesamiento de texto"
   ]
  },
  {
   "cell_type": "code",
   "execution_count": 7,
   "metadata": {},
   "outputs": [],
   "source": [
    "def text_process(phrase): \n",
    "    \n",
    "    \"\"\"\n",
    "    Esta función procesa el texto\n",
    "    eliminando puntuación, tokenizando,\n",
    "    y lematizando\n",
    "    \"\"\"  \n",
    "    phrase = re.sub('[^a-zA-Z]|[0-9]', ' ',phrase)\n",
    "    phrase = word_tokenize(phrase.lower())\n",
    "    lemmatizer = WordNetLemmatizer()\n",
    "    phrase = [lemmatizer.lemmatize(w) for w in phrase if not w in set(stopwords.words('english'))]\n",
    "    return (' '.join(phrase))"
   ]
  },
  {
   "cell_type": "code",
   "execution_count": 8,
   "metadata": {},
   "outputs": [
    {
     "name": "stdout",
     "output_type": "stream",
     "text": [
      "CPU times: user 2min 11s, sys: 9.11 s, total: 2min 20s\n",
      "Wall time: 2min 20s\n"
     ]
    }
   ],
   "source": [
    "%%time\n",
    "train_data['clean_phrases'] = train_data['Phrase'].apply(text_process)\n",
    "test_data['clean_phrases'] = test_data['Phrase'].apply(text_process)"
   ]
  },
  {
   "cell_type": "code",
   "execution_count": 9,
   "metadata": {},
   "outputs": [
    {
     "data": {
      "text/html": [
       "<div>\n",
       "<style scoped>\n",
       "    .dataframe tbody tr th:only-of-type {\n",
       "        vertical-align: middle;\n",
       "    }\n",
       "\n",
       "    .dataframe tbody tr th {\n",
       "        vertical-align: top;\n",
       "    }\n",
       "\n",
       "    .dataframe thead th {\n",
       "        text-align: right;\n",
       "    }\n",
       "</style>\n",
       "<table border=\"1\" class=\"dataframe\">\n",
       "  <thead>\n",
       "    <tr style=\"text-align: right;\">\n",
       "      <th></th>\n",
       "      <th>PhraseId</th>\n",
       "      <th>SentenceId</th>\n",
       "      <th>Phrase</th>\n",
       "      <th>clean_phrases</th>\n",
       "    </tr>\n",
       "  </thead>\n",
       "  <tbody>\n",
       "    <tr>\n",
       "      <th>0</th>\n",
       "      <td>156061</td>\n",
       "      <td>8545</td>\n",
       "      <td>An intermittently pleasing but mostly routine ...</td>\n",
       "      <td>intermittently pleasing mostly routine effort</td>\n",
       "    </tr>\n",
       "    <tr>\n",
       "      <th>1</th>\n",
       "      <td>156062</td>\n",
       "      <td>8545</td>\n",
       "      <td>An intermittently pleasing but mostly routine ...</td>\n",
       "      <td>intermittently pleasing mostly routine effort</td>\n",
       "    </tr>\n",
       "    <tr>\n",
       "      <th>2</th>\n",
       "      <td>156063</td>\n",
       "      <td>8545</td>\n",
       "      <td>An</td>\n",
       "      <td></td>\n",
       "    </tr>\n",
       "    <tr>\n",
       "      <th>3</th>\n",
       "      <td>156064</td>\n",
       "      <td>8545</td>\n",
       "      <td>intermittently pleasing but mostly routine effort</td>\n",
       "      <td>intermittently pleasing mostly routine effort</td>\n",
       "    </tr>\n",
       "    <tr>\n",
       "      <th>4</th>\n",
       "      <td>156065</td>\n",
       "      <td>8545</td>\n",
       "      <td>intermittently pleasing but mostly routine</td>\n",
       "      <td>intermittently pleasing mostly routine</td>\n",
       "    </tr>\n",
       "  </tbody>\n",
       "</table>\n",
       "</div>"
      ],
      "text/plain": [
       "   PhraseId  SentenceId                                             Phrase  \\\n",
       "0    156061        8545  An intermittently pleasing but mostly routine ...   \n",
       "1    156062        8545  An intermittently pleasing but mostly routine ...   \n",
       "2    156063        8545                                                 An   \n",
       "3    156064        8545  intermittently pleasing but mostly routine effort   \n",
       "4    156065        8545         intermittently pleasing but mostly routine   \n",
       "\n",
       "                                   clean_phrases  \n",
       "0  intermittently pleasing mostly routine effort  \n",
       "1  intermittently pleasing mostly routine effort  \n",
       "2                                                 \n",
       "3  intermittently pleasing mostly routine effort  \n",
       "4         intermittently pleasing mostly routine  "
      ]
     },
     "execution_count": 9,
     "metadata": {},
     "output_type": "execute_result"
    }
   ],
   "source": [
    "test_data.head()"
   ]
  },
  {
   "cell_type": "markdown",
   "metadata": {},
   "source": [
    "### Vectorización"
   ]
  },
  {
   "cell_type": "code",
   "execution_count": 10,
   "metadata": {},
   "outputs": [],
   "source": [
    "cv = CountVectorizer(max_features = 1500, min_df=10)\n",
    "x__train = cv.fit_transform(train_data.clean_phrases).toarray()\n",
    "x__test= cv.fit_transform(test_data.clean_phrases).toarray()\n",
    "y = train_data.Sentiment.values"
   ]
  },
  {
   "cell_type": "markdown",
   "metadata": {},
   "source": [
    "### Preparación de los datos para el entrenamiento\n",
    "\n",
    "Se divide del dataset de entrenamiento en dataset para entrenar el modelo, con el 70% y un 30% como dataset de test para estudiar la precisión "
   ]
  },
  {
   "cell_type": "code",
   "execution_count": 11,
   "metadata": {},
   "outputs": [],
   "source": [
    "X_train, X_test, y_train, y_test = train_test_split(x__train, y, test_size = 0.30,random_state = 0)"
   ]
  },
  {
   "cell_type": "markdown",
   "metadata": {},
   "source": [
    "### Aplicación de modelos predictivos"
   ]
  },
  {
   "cell_type": "markdown",
   "metadata": {},
   "source": [
    "__Regresión Logística__"
   ]
  },
  {
   "cell_type": "code",
   "execution_count": 12,
   "metadata": {},
   "outputs": [
    {
     "name": "stdout",
     "output_type": "stream",
     "text": [
      "Precisión del clasificador por Regresión Logística: 0.59\n",
      "===============\n",
      "matriz de confusión\n",
      "[[  333   695  1041   116     8]\n",
      " [  242  1757  5579   526    35]\n",
      " [   71   866 21801  1199    87]\n",
      " [   26   318  5824  3157   370]\n",
      " [    7    72   923  1210   555]]\n",
      "===============\n",
      "informe del modelo\n",
      "              precision    recall  f1-score   support\n",
      "\n",
      "           0       0.49      0.15      0.23      2193\n",
      "           1       0.47      0.22      0.30      8139\n",
      "           2       0.62      0.91      0.74     24024\n",
      "           3       0.51      0.33      0.40      9695\n",
      "           4       0.53      0.20      0.29      2767\n",
      "\n",
      "   micro avg       0.59      0.59      0.59     46818\n",
      "   macro avg       0.52      0.36      0.39     46818\n",
      "weighted avg       0.56      0.59      0.54     46818\n",
      "\n"
     ]
    }
   ],
   "source": [
    "logreg = LogisticRegression()\n",
    "logreg.fit(X_train, y_train)\n",
    "y_pred = logreg.predict(X_test)\n",
    "pred_logReg = logreg.predict(x__test) #predicciones sobre el dataset de test\n",
    "print('Precisión del clasificador por Regresión Logística: {:.2f}'.format(logreg.score(X_test, y_test)))\n",
    "global confusion_matrix #this is to avoid unbound error\n",
    "cfm = confusion_matrix(y_test, y_pred)\n",
    "print(\"===============\")\n",
    "print(\"matriz de confusión\")\n",
    "print(cfm)\n",
    "print(\"===============\")\n",
    "print(\"informe del modelo\")\n",
    "print(classification_report(y_test, y_pred))"
   ]
  },
  {
   "cell_type": "markdown",
   "metadata": {},
   "source": [
    "__Naive Bayes__"
   ]
  },
  {
   "cell_type": "code",
   "execution_count": 13,
   "metadata": {},
   "outputs": [
    {
     "name": "stdout",
     "output_type": "stream",
     "text": [
      "Precisión del clasificador por Naive Bayes: 0.58\n",
      "===============\n",
      "matriz de confusión\n",
      "[[  297   590  1206    92     8]\n",
      " [  199  1511  5998   398    33]\n",
      " [   63   739 22035  1132    55]\n",
      " [   13   240  6089  3028   325]\n",
      " [    3    51  1071  1151   491]]\n",
      "===============\n",
      "informe del modelo\n",
      "              precision    recall  f1-score   support\n",
      "\n",
      "           0       0.52      0.14      0.21      2193\n",
      "           1       0.48      0.19      0.27      8139\n",
      "           2       0.61      0.92      0.73     24024\n",
      "           3       0.52      0.31      0.39      9695\n",
      "           4       0.54      0.18      0.27      2767\n",
      "\n",
      "   micro avg       0.58      0.58      0.58     46818\n",
      "   macro avg       0.53      0.35      0.37     46818\n",
      "weighted avg       0.56      0.58      0.53     46818\n",
      "\n"
     ]
    }
   ],
   "source": [
    "naive_bayes = MultinomialNB()\n",
    "naive_bayes.fit(X_train, y_train)\n",
    "y_pred = naive_bayes.predict(X_test)\n",
    "pred_naiveBayes = naive_bayes.predict(x__test)\n",
    "print('Precisión del clasificador por Naive Bayes: {:.2f}'.format(naive_bayes.score(X_test, y_test)))\n",
    "global confusion_matrix #this is to avoid unbound error\n",
    "cfm = confusion_matrix(y_test, y_pred)\n",
    "print(\"===============\")\n",
    "print(\"matriz de confusión\")\n",
    "print(cfm)\n",
    "print(\"===============\")\n",
    "print(\"informe del modelo\")\n",
    "print(classification_report(y_test, y_pred))"
   ]
  },
  {
   "cell_type": "markdown",
   "metadata": {},
   "source": [
    "__SVM__"
   ]
  },
  {
   "cell_type": "code",
   "execution_count": 14,
   "metadata": {},
   "outputs": [
    {
     "name": "stdout",
     "output_type": "stream",
     "text": [
      "Precisión del clasificador por Máquina de Vectores de Soporte: 0.57\n",
      "===============\n",
      "matriz de confusión\n",
      "[[  380   399  1224   176    14]\n",
      " [  385   929  6164   607    54]\n",
      " [  132   418 22249  1137    88]\n",
      " [   70   165  6236  2930   294]\n",
      " [   25    37  1061  1220   424]]\n",
      "===============\n",
      "informe del modelo\n",
      "              precision    recall  f1-score   support\n",
      "\n",
      "           0       0.38      0.17      0.24      2193\n",
      "           1       0.48      0.11      0.18      8139\n",
      "           2       0.60      0.93      0.73     24024\n",
      "           3       0.48      0.30      0.37      9695\n",
      "           4       0.49      0.15      0.23      2767\n",
      "\n",
      "   micro avg       0.57      0.57      0.57     46818\n",
      "   macro avg       0.49      0.33      0.35     46818\n",
      "weighted avg       0.54      0.57      0.51     46818\n",
      "\n"
     ]
    }
   ],
   "source": [
    "svm=SGDClassifier()\n",
    "svm.fit(X_train, y_train)\n",
    "y_pred = svm.predict(X_test)\n",
    "pred_svm = svm.predict(x__test)\n",
    "print('Precisión del clasificador por Máquina de Vectores de Soporte: {:.2f}'.format(svm.score(X_test, y_test)))\n",
    "global confusion_matrix #this is to avoid unbound error\n",
    "cfm = confusion_matrix(y_test, y_pred)\n",
    "print(\"===============\")\n",
    "print(\"matriz de confusión\")\n",
    "print(cfm)\n",
    "print(\"===============\")\n",
    "print(\"informe del modelo\")\n",
    "print(classification_report(y_test, y_pred))"
   ]
  },
  {
   "cell_type": "markdown",
   "metadata": {},
   "source": [
    "### Guardar el mejor modelo de los 3"
   ]
  },
  {
   "cell_type": "code",
   "execution_count": 15,
   "metadata": {},
   "outputs": [
    {
     "data": {
      "text/plain": [
       "['logregmodel.joblib']"
      ]
     },
     "execution_count": 15,
     "metadata": {},
     "output_type": "execute_result"
    }
   ],
   "source": [
    "dump(logreg, 'logregmodel.joblib')"
   ]
  },
  {
   "cell_type": "markdown",
   "metadata": {},
   "source": [
    "### Cargar modelo de regresión Logística"
   ]
  },
  {
   "cell_type": "code",
   "execution_count": 16,
   "metadata": {},
   "outputs": [],
   "source": [
    "#aplicación del modelo sobre el dataset de test\n",
    "pipe=load('logregmodel.joblib')\n",
    "pred = pd.Series(pipe.predict(x__test))"
   ]
  },
  {
   "cell_type": "code",
   "execution_count": 17,
   "metadata": {},
   "outputs": [],
   "source": [
    "test_data['Sentiment']=pred"
   ]
  },
  {
   "cell_type": "code",
   "execution_count": 18,
   "metadata": {},
   "outputs": [],
   "source": [
    "resultados=test_data[['PhraseId','Sentiment']].copy()"
   ]
  },
  {
   "cell_type": "markdown",
   "metadata": {},
   "source": [
    "__Distribución de sentimientos__"
   ]
  },
  {
   "cell_type": "code",
   "execution_count": 19,
   "metadata": {
    "scrolled": true
   },
   "outputs": [
    {
     "data": {
      "text/plain": [
       "2    49093\n",
       "3     9269\n",
       "1     6032\n",
       "4     1142\n",
       "0      756\n",
       "Name: Sentiment, dtype: int64"
      ]
     },
     "execution_count": 19,
     "metadata": {},
     "output_type": "execute_result"
    }
   ],
   "source": [
    "resultados.Sentiment.value_counts()"
   ]
  },
  {
   "cell_type": "code",
   "execution_count": 20,
   "metadata": {},
   "outputs": [
    {
     "data": {
      "text/plain": [
       "<matplotlib.axes._subplots.AxesSubplot at 0x7f8d6d067588>"
      ]
     },
     "execution_count": 20,
     "metadata": {},
     "output_type": "execute_result"
    },
    {
     "data": {
      "image/png": "[encoded data removed]",
      "text/plain": [
       "<Figure size 432x288 with 1 Axes>"
      ]
     },
     "metadata": {
      "needs_background": "light"
     },
     "output_type": "display_data"
    }
   ],
   "source": [
    "sns.countplot(resultados['Sentiment'])"
   ]
  },
  {
   "cell_type": "markdown",
   "metadata": {},
   "source": [
    "### Exportar a .csv"
   ]
  },
  {
   "cell_type": "code",
   "execution_count": 21,
   "metadata": {},
   "outputs": [],
   "source": [
    "resultados.to_csv('submission.csv')"
   ]
  }
 ],
 "metadata": {
  "kernelspec": {
   "display_name": "Python 3",
   "language": "python",
   "name": "python3"
  },
  "language_info": {
   "codemirror_mode": {
    "name": "ipython",
    "version": 3
   },
   "file_extension": ".py",
   "mimetype": "text/x-python",
   "name": "python",
   "nbconvert_exporter": "python",
   "pygments_lexer": "ipython3",
   "version": "3.6.7"
  }
 },
 "nbformat": 4,
 "nbformat_minor": 2
}
